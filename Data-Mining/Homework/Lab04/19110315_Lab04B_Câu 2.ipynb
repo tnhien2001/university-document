{
 "cells": [
  {
   "cell_type": "markdown",
   "id": "8fa7c03f",
   "metadata": {},
   "source": [
    "# Lab04B_Câu 2"
   ]
  },
  {
   "cell_type": "code",
   "execution_count": 82,
   "id": "e1f16822",
   "metadata": {},
   "outputs": [],
   "source": [
    "# import basic libraries \n",
    "import numpy as np \n",
    "import pandas as pd\n",
    "import warnings\n",
    "warnings.filterwarnings('ignore')"
   ]
  },
  {
   "cell_type": "code",
   "execution_count": 83,
   "id": "44bde895",
   "metadata": {},
   "outputs": [],
   "source": [
    "# import plot libraries \n",
    "import seaborn as sns \n",
    "import matplotlib.pyplot as plt \n",
    "%matplotlib inline"
   ]
  },
  {
   "cell_type": "code",
   "execution_count": 84,
   "id": "5e9f7bf7",
   "metadata": {},
   "outputs": [
    {
     "data": {
      "text/html": [
       "<div>\n",
       "<style scoped>\n",
       "    .dataframe tbody tr th:only-of-type {\n",
       "        vertical-align: middle;\n",
       "    }\n",
       "\n",
       "    .dataframe tbody tr th {\n",
       "        vertical-align: top;\n",
       "    }\n",
       "\n",
       "    .dataframe thead th {\n",
       "        text-align: right;\n",
       "    }\n",
       "</style>\n",
       "<table border=\"1\" class=\"dataframe\">\n",
       "  <thead>\n",
       "    <tr style=\"text-align: right;\">\n",
       "      <th></th>\n",
       "      <th>State</th>\n",
       "      <th>Account length</th>\n",
       "      <th>Area code</th>\n",
       "      <th>International plan</th>\n",
       "      <th>Voice mail plan</th>\n",
       "      <th>Number vmail messages</th>\n",
       "      <th>Total day minutes</th>\n",
       "      <th>Total day calls</th>\n",
       "      <th>Total day charge</th>\n",
       "      <th>Total eve minutes</th>\n",
       "      <th>Total eve calls</th>\n",
       "      <th>Total eve charge</th>\n",
       "      <th>Total night minutes</th>\n",
       "      <th>Total night calls</th>\n",
       "      <th>Total night charge</th>\n",
       "      <th>Total intl minutes</th>\n",
       "      <th>Total intl calls</th>\n",
       "      <th>Total intl charge</th>\n",
       "      <th>Customer service calls</th>\n",
       "      <th>Churn</th>\n",
       "    </tr>\n",
       "  </thead>\n",
       "  <tbody>\n",
       "    <tr>\n",
       "      <th>0</th>\n",
       "      <td>KS</td>\n",
       "      <td>128</td>\n",
       "      <td>415</td>\n",
       "      <td>No</td>\n",
       "      <td>Yes</td>\n",
       "      <td>25</td>\n",
       "      <td>265.1</td>\n",
       "      <td>110</td>\n",
       "      <td>45.07</td>\n",
       "      <td>197.4</td>\n",
       "      <td>99</td>\n",
       "      <td>16.78</td>\n",
       "      <td>244.7</td>\n",
       "      <td>91</td>\n",
       "      <td>11.01</td>\n",
       "      <td>10.0</td>\n",
       "      <td>3</td>\n",
       "      <td>2.70</td>\n",
       "      <td>1</td>\n",
       "      <td>False</td>\n",
       "    </tr>\n",
       "    <tr>\n",
       "      <th>1</th>\n",
       "      <td>OH</td>\n",
       "      <td>107</td>\n",
       "      <td>415</td>\n",
       "      <td>No</td>\n",
       "      <td>Yes</td>\n",
       "      <td>26</td>\n",
       "      <td>161.6</td>\n",
       "      <td>123</td>\n",
       "      <td>27.47</td>\n",
       "      <td>195.5</td>\n",
       "      <td>103</td>\n",
       "      <td>16.62</td>\n",
       "      <td>254.4</td>\n",
       "      <td>103</td>\n",
       "      <td>11.45</td>\n",
       "      <td>13.7</td>\n",
       "      <td>3</td>\n",
       "      <td>3.70</td>\n",
       "      <td>1</td>\n",
       "      <td>False</td>\n",
       "    </tr>\n",
       "    <tr>\n",
       "      <th>2</th>\n",
       "      <td>NJ</td>\n",
       "      <td>137</td>\n",
       "      <td>415</td>\n",
       "      <td>No</td>\n",
       "      <td>No</td>\n",
       "      <td>0</td>\n",
       "      <td>243.4</td>\n",
       "      <td>114</td>\n",
       "      <td>41.38</td>\n",
       "      <td>121.2</td>\n",
       "      <td>110</td>\n",
       "      <td>10.30</td>\n",
       "      <td>162.6</td>\n",
       "      <td>104</td>\n",
       "      <td>7.32</td>\n",
       "      <td>12.2</td>\n",
       "      <td>5</td>\n",
       "      <td>3.29</td>\n",
       "      <td>0</td>\n",
       "      <td>False</td>\n",
       "    </tr>\n",
       "    <tr>\n",
       "      <th>3</th>\n",
       "      <td>OH</td>\n",
       "      <td>84</td>\n",
       "      <td>408</td>\n",
       "      <td>Yes</td>\n",
       "      <td>No</td>\n",
       "      <td>0</td>\n",
       "      <td>299.4</td>\n",
       "      <td>71</td>\n",
       "      <td>50.90</td>\n",
       "      <td>61.9</td>\n",
       "      <td>88</td>\n",
       "      <td>5.26</td>\n",
       "      <td>196.9</td>\n",
       "      <td>89</td>\n",
       "      <td>8.86</td>\n",
       "      <td>6.6</td>\n",
       "      <td>7</td>\n",
       "      <td>1.78</td>\n",
       "      <td>2</td>\n",
       "      <td>False</td>\n",
       "    </tr>\n",
       "    <tr>\n",
       "      <th>4</th>\n",
       "      <td>OK</td>\n",
       "      <td>75</td>\n",
       "      <td>415</td>\n",
       "      <td>Yes</td>\n",
       "      <td>No</td>\n",
       "      <td>0</td>\n",
       "      <td>166.7</td>\n",
       "      <td>113</td>\n",
       "      <td>28.34</td>\n",
       "      <td>148.3</td>\n",
       "      <td>122</td>\n",
       "      <td>12.61</td>\n",
       "      <td>186.9</td>\n",
       "      <td>121</td>\n",
       "      <td>8.41</td>\n",
       "      <td>10.1</td>\n",
       "      <td>3</td>\n",
       "      <td>2.73</td>\n",
       "      <td>3</td>\n",
       "      <td>False</td>\n",
       "    </tr>\n",
       "  </tbody>\n",
       "</table>\n",
       "</div>"
      ],
      "text/plain": [
       "  State  Account length  Area code International plan Voice mail plan  \\\n",
       "0    KS             128        415                 No             Yes   \n",
       "1    OH             107        415                 No             Yes   \n",
       "2    NJ             137        415                 No              No   \n",
       "3    OH              84        408                Yes              No   \n",
       "4    OK              75        415                Yes              No   \n",
       "\n",
       "   Number vmail messages  Total day minutes  Total day calls  \\\n",
       "0                     25              265.1              110   \n",
       "1                     26              161.6              123   \n",
       "2                      0              243.4              114   \n",
       "3                      0              299.4               71   \n",
       "4                      0              166.7              113   \n",
       "\n",
       "   Total day charge  Total eve minutes  Total eve calls  Total eve charge  \\\n",
       "0             45.07              197.4               99             16.78   \n",
       "1             27.47              195.5              103             16.62   \n",
       "2             41.38              121.2              110             10.30   \n",
       "3             50.90               61.9               88              5.26   \n",
       "4             28.34              148.3              122             12.61   \n",
       "\n",
       "   Total night minutes  Total night calls  Total night charge  \\\n",
       "0                244.7                 91               11.01   \n",
       "1                254.4                103               11.45   \n",
       "2                162.6                104                7.32   \n",
       "3                196.9                 89                8.86   \n",
       "4                186.9                121                8.41   \n",
       "\n",
       "   Total intl minutes  Total intl calls  Total intl charge  \\\n",
       "0                10.0                 3               2.70   \n",
       "1                13.7                 3               3.70   \n",
       "2                12.2                 5               3.29   \n",
       "3                 6.6                 7               1.78   \n",
       "4                10.1                 3               2.73   \n",
       "\n",
       "   Customer service calls  Churn  \n",
       "0                       1  False  \n",
       "1                       1  False  \n",
       "2                       0  False  \n",
       "3                       2  False  \n",
       "4                       3  False  "
      ]
     },
     "execution_count": 84,
     "metadata": {},
     "output_type": "execute_result"
    }
   ],
   "source": [
    "# Read data\n",
    "data = pd.read_csv(\"telecom_churn.csv\")\n",
    "data.head()"
   ]
  },
  {
   "cell_type": "code",
   "execution_count": 85,
   "id": "672161cc",
   "metadata": {},
   "outputs": [
    {
     "name": "stdout",
     "output_type": "stream",
     "text": [
      "<class 'pandas.core.frame.DataFrame'>\n",
      "RangeIndex: 3333 entries, 0 to 3332\n",
      "Data columns (total 20 columns):\n",
      " #   Column                  Non-Null Count  Dtype  \n",
      "---  ------                  --------------  -----  \n",
      " 0   State                   3333 non-null   object \n",
      " 1   Account length          3333 non-null   int64  \n",
      " 2   Area code               3333 non-null   int64  \n",
      " 3   International plan      3333 non-null   object \n",
      " 4   Voice mail plan         3333 non-null   object \n",
      " 5   Number vmail messages   3333 non-null   int64  \n",
      " 6   Total day minutes       3333 non-null   float64\n",
      " 7   Total day calls         3333 non-null   int64  \n",
      " 8   Total day charge        3333 non-null   float64\n",
      " 9   Total eve minutes       3333 non-null   float64\n",
      " 10  Total eve calls         3333 non-null   int64  \n",
      " 11  Total eve charge        3333 non-null   float64\n",
      " 12  Total night minutes     3333 non-null   float64\n",
      " 13  Total night calls       3333 non-null   int64  \n",
      " 14  Total night charge      3333 non-null   float64\n",
      " 15  Total intl minutes      3333 non-null   float64\n",
      " 16  Total intl calls        3333 non-null   int64  \n",
      " 17  Total intl charge       3333 non-null   float64\n",
      " 18  Customer service calls  3333 non-null   int64  \n",
      " 19  Churn                   3333 non-null   bool   \n",
      "dtypes: bool(1), float64(8), int64(8), object(3)\n",
      "memory usage: 498.1+ KB\n"
     ]
    }
   ],
   "source": [
    "data.info()"
   ]
  },
  {
   "cell_type": "code",
   "execution_count": 86,
   "id": "5585804b",
   "metadata": {},
   "outputs": [
    {
     "data": {
      "text/html": [
       "<div>\n",
       "<style scoped>\n",
       "    .dataframe tbody tr th:only-of-type {\n",
       "        vertical-align: middle;\n",
       "    }\n",
       "\n",
       "    .dataframe tbody tr th {\n",
       "        vertical-align: top;\n",
       "    }\n",
       "\n",
       "    .dataframe thead th {\n",
       "        text-align: right;\n",
       "    }\n",
       "</style>\n",
       "<table border=\"1\" class=\"dataframe\">\n",
       "  <thead>\n",
       "    <tr style=\"text-align: right;\">\n",
       "      <th></th>\n",
       "      <th>Account length</th>\n",
       "      <th>Area code</th>\n",
       "      <th>Number vmail messages</th>\n",
       "      <th>Total day minutes</th>\n",
       "      <th>Total day calls</th>\n",
       "      <th>Total day charge</th>\n",
       "      <th>Total eve minutes</th>\n",
       "      <th>Total eve calls</th>\n",
       "      <th>Total eve charge</th>\n",
       "      <th>Total night minutes</th>\n",
       "      <th>Total night calls</th>\n",
       "      <th>Total night charge</th>\n",
       "      <th>Total intl minutes</th>\n",
       "      <th>Total intl calls</th>\n",
       "      <th>Total intl charge</th>\n",
       "      <th>Customer service calls</th>\n",
       "    </tr>\n",
       "  </thead>\n",
       "  <tbody>\n",
       "    <tr>\n",
       "      <th>count</th>\n",
       "      <td>3333.000000</td>\n",
       "      <td>3333.000000</td>\n",
       "      <td>3333.000000</td>\n",
       "      <td>3333.000000</td>\n",
       "      <td>3333.000000</td>\n",
       "      <td>3333.000000</td>\n",
       "      <td>3333.000000</td>\n",
       "      <td>3333.000000</td>\n",
       "      <td>3333.000000</td>\n",
       "      <td>3333.000000</td>\n",
       "      <td>3333.000000</td>\n",
       "      <td>3333.000000</td>\n",
       "      <td>3333.000000</td>\n",
       "      <td>3333.000000</td>\n",
       "      <td>3333.000000</td>\n",
       "      <td>3333.000000</td>\n",
       "    </tr>\n",
       "    <tr>\n",
       "      <th>mean</th>\n",
       "      <td>101.064806</td>\n",
       "      <td>437.182418</td>\n",
       "      <td>8.099010</td>\n",
       "      <td>179.775098</td>\n",
       "      <td>100.435644</td>\n",
       "      <td>30.562307</td>\n",
       "      <td>200.980348</td>\n",
       "      <td>100.114311</td>\n",
       "      <td>17.083540</td>\n",
       "      <td>200.872037</td>\n",
       "      <td>100.107711</td>\n",
       "      <td>9.039325</td>\n",
       "      <td>10.237294</td>\n",
       "      <td>4.479448</td>\n",
       "      <td>2.764581</td>\n",
       "      <td>1.562856</td>\n",
       "    </tr>\n",
       "    <tr>\n",
       "      <th>std</th>\n",
       "      <td>39.822106</td>\n",
       "      <td>42.371290</td>\n",
       "      <td>13.688365</td>\n",
       "      <td>54.467389</td>\n",
       "      <td>20.069084</td>\n",
       "      <td>9.259435</td>\n",
       "      <td>50.713844</td>\n",
       "      <td>19.922625</td>\n",
       "      <td>4.310668</td>\n",
       "      <td>50.573847</td>\n",
       "      <td>19.568609</td>\n",
       "      <td>2.275873</td>\n",
       "      <td>2.791840</td>\n",
       "      <td>2.461214</td>\n",
       "      <td>0.753773</td>\n",
       "      <td>1.315491</td>\n",
       "    </tr>\n",
       "    <tr>\n",
       "      <th>min</th>\n",
       "      <td>1.000000</td>\n",
       "      <td>408.000000</td>\n",
       "      <td>0.000000</td>\n",
       "      <td>0.000000</td>\n",
       "      <td>0.000000</td>\n",
       "      <td>0.000000</td>\n",
       "      <td>0.000000</td>\n",
       "      <td>0.000000</td>\n",
       "      <td>0.000000</td>\n",
       "      <td>23.200000</td>\n",
       "      <td>33.000000</td>\n",
       "      <td>1.040000</td>\n",
       "      <td>0.000000</td>\n",
       "      <td>0.000000</td>\n",
       "      <td>0.000000</td>\n",
       "      <td>0.000000</td>\n",
       "    </tr>\n",
       "    <tr>\n",
       "      <th>25%</th>\n",
       "      <td>74.000000</td>\n",
       "      <td>408.000000</td>\n",
       "      <td>0.000000</td>\n",
       "      <td>143.700000</td>\n",
       "      <td>87.000000</td>\n",
       "      <td>24.430000</td>\n",
       "      <td>166.600000</td>\n",
       "      <td>87.000000</td>\n",
       "      <td>14.160000</td>\n",
       "      <td>167.000000</td>\n",
       "      <td>87.000000</td>\n",
       "      <td>7.520000</td>\n",
       "      <td>8.500000</td>\n",
       "      <td>3.000000</td>\n",
       "      <td>2.300000</td>\n",
       "      <td>1.000000</td>\n",
       "    </tr>\n",
       "    <tr>\n",
       "      <th>50%</th>\n",
       "      <td>101.000000</td>\n",
       "      <td>415.000000</td>\n",
       "      <td>0.000000</td>\n",
       "      <td>179.400000</td>\n",
       "      <td>101.000000</td>\n",
       "      <td>30.500000</td>\n",
       "      <td>201.400000</td>\n",
       "      <td>100.000000</td>\n",
       "      <td>17.120000</td>\n",
       "      <td>201.200000</td>\n",
       "      <td>100.000000</td>\n",
       "      <td>9.050000</td>\n",
       "      <td>10.300000</td>\n",
       "      <td>4.000000</td>\n",
       "      <td>2.780000</td>\n",
       "      <td>1.000000</td>\n",
       "    </tr>\n",
       "    <tr>\n",
       "      <th>75%</th>\n",
       "      <td>127.000000</td>\n",
       "      <td>510.000000</td>\n",
       "      <td>20.000000</td>\n",
       "      <td>216.400000</td>\n",
       "      <td>114.000000</td>\n",
       "      <td>36.790000</td>\n",
       "      <td>235.300000</td>\n",
       "      <td>114.000000</td>\n",
       "      <td>20.000000</td>\n",
       "      <td>235.300000</td>\n",
       "      <td>113.000000</td>\n",
       "      <td>10.590000</td>\n",
       "      <td>12.100000</td>\n",
       "      <td>6.000000</td>\n",
       "      <td>3.270000</td>\n",
       "      <td>2.000000</td>\n",
       "    </tr>\n",
       "    <tr>\n",
       "      <th>max</th>\n",
       "      <td>243.000000</td>\n",
       "      <td>510.000000</td>\n",
       "      <td>51.000000</td>\n",
       "      <td>350.800000</td>\n",
       "      <td>165.000000</td>\n",
       "      <td>59.640000</td>\n",
       "      <td>363.700000</td>\n",
       "      <td>170.000000</td>\n",
       "      <td>30.910000</td>\n",
       "      <td>395.000000</td>\n",
       "      <td>175.000000</td>\n",
       "      <td>17.770000</td>\n",
       "      <td>20.000000</td>\n",
       "      <td>20.000000</td>\n",
       "      <td>5.400000</td>\n",
       "      <td>9.000000</td>\n",
       "    </tr>\n",
       "  </tbody>\n",
       "</table>\n",
       "</div>"
      ],
      "text/plain": [
       "       Account length    Area code  Number vmail messages  Total day minutes  \\\n",
       "count     3333.000000  3333.000000            3333.000000        3333.000000   \n",
       "mean       101.064806   437.182418               8.099010         179.775098   \n",
       "std         39.822106    42.371290              13.688365          54.467389   \n",
       "min          1.000000   408.000000               0.000000           0.000000   \n",
       "25%         74.000000   408.000000               0.000000         143.700000   \n",
       "50%        101.000000   415.000000               0.000000         179.400000   \n",
       "75%        127.000000   510.000000              20.000000         216.400000   \n",
       "max        243.000000   510.000000              51.000000         350.800000   \n",
       "\n",
       "       Total day calls  Total day charge  Total eve minutes  Total eve calls  \\\n",
       "count      3333.000000       3333.000000        3333.000000      3333.000000   \n",
       "mean        100.435644         30.562307         200.980348       100.114311   \n",
       "std          20.069084          9.259435          50.713844        19.922625   \n",
       "min           0.000000          0.000000           0.000000         0.000000   \n",
       "25%          87.000000         24.430000         166.600000        87.000000   \n",
       "50%         101.000000         30.500000         201.400000       100.000000   \n",
       "75%         114.000000         36.790000         235.300000       114.000000   \n",
       "max         165.000000         59.640000         363.700000       170.000000   \n",
       "\n",
       "       Total eve charge  Total night minutes  Total night calls  \\\n",
       "count       3333.000000          3333.000000        3333.000000   \n",
       "mean          17.083540           200.872037         100.107711   \n",
       "std            4.310668            50.573847          19.568609   \n",
       "min            0.000000            23.200000          33.000000   \n",
       "25%           14.160000           167.000000          87.000000   \n",
       "50%           17.120000           201.200000         100.000000   \n",
       "75%           20.000000           235.300000         113.000000   \n",
       "max           30.910000           395.000000         175.000000   \n",
       "\n",
       "       Total night charge  Total intl minutes  Total intl calls  \\\n",
       "count         3333.000000         3333.000000       3333.000000   \n",
       "mean             9.039325           10.237294          4.479448   \n",
       "std              2.275873            2.791840          2.461214   \n",
       "min              1.040000            0.000000          0.000000   \n",
       "25%              7.520000            8.500000          3.000000   \n",
       "50%              9.050000           10.300000          4.000000   \n",
       "75%             10.590000           12.100000          6.000000   \n",
       "max             17.770000           20.000000         20.000000   \n",
       "\n",
       "       Total intl charge  Customer service calls  \n",
       "count        3333.000000             3333.000000  \n",
       "mean            2.764581                1.562856  \n",
       "std             0.753773                1.315491  \n",
       "min             0.000000                0.000000  \n",
       "25%             2.300000                1.000000  \n",
       "50%             2.780000                1.000000  \n",
       "75%             3.270000                2.000000  \n",
       "max             5.400000                9.000000  "
      ]
     },
     "execution_count": 86,
     "metadata": {},
     "output_type": "execute_result"
    }
   ],
   "source": [
    "data.describe()"
   ]
  },
  {
   "cell_type": "code",
   "execution_count": 87,
   "id": "8b03fb42",
   "metadata": {},
   "outputs": [
    {
     "name": "stdout",
     "output_type": "stream",
     "text": [
      " List of unique values in State : \n",
      "['KS' 'OH' 'NJ' 'OK' 'AL' 'MA' 'MO' 'LA' 'WV' 'IN' 'RI' 'IA' 'MT' 'NY'\n",
      " 'ID' 'VT' 'VA' 'TX' 'FL' 'CO' 'AZ' 'SC' 'NE' 'WY' 'HI' 'IL' 'NH' 'GA'\n",
      " 'AK' 'MD' 'AR' 'WI' 'OR' 'MI' 'DE' 'UT' 'CA' 'MN' 'SD' 'NC' 'WA' 'NM'\n",
      " 'NV' 'DC' 'KY' 'ME' 'MS' 'TN' 'PA' 'CT' 'ND']\n",
      " List of unique values in International plan : \n",
      "['No' 'Yes']\n",
      " List of unique values in Voice mail plan : \n",
      "['Yes' 'No']\n",
      " List of unique values in Area code : \n",
      "[415 408 510]\n"
     ]
    }
   ],
   "source": [
    "print(\" List of unique values in State : \")\n",
    "print(data['State'].unique())\n",
    "print(\" List of unique values in International plan : \")\n",
    "print(data['International plan'].unique())\n",
    "print(\" List of unique values in Voice mail plan : \")\n",
    "print(data['Voice mail plan'].unique())\n",
    "\n",
    "#Special Field\n",
    "print(\" List of unique values in Area code : \")\n",
    "print(data['Area code'].unique())"
   ]
  },
  {
   "cell_type": "code",
   "execution_count": 88,
   "id": "ad3a20f1",
   "metadata": {},
   "outputs": [
    {
     "data": {
      "image/png": "[encoded data removed]",
      "text/plain": [
       "<Figure size 1440x360 with 1 Axes>"
      ]
     },
     "metadata": {
      "needs_background": "light"
     },
     "output_type": "display_data"
    }
   ],
   "source": [
    "State = data['State'].value_counts()\n",
    "StateDF = pd.DataFrame({'State':State.index, 'Freq': State.values})\n",
    "StateDF = StateDF.sort_values(by = 'State', ascending=True)\n",
    "\n",
    "#Bar plot\n",
    "plt.subplots(figsize=(20,5))\n",
    "plt.bar(StateDF['State'], StateDF[\"Freq\"])\n",
    "plt.ylabel('Frequency')\n",
    "plt.title('Barplot of State')\n",
    "plt.show()"
   ]
  },
  {
   "cell_type": "markdown",
   "id": "30de1dde",
   "metadata": {},
   "source": [
    "## Access:\n",
    "\n",
    "- Từ dữ liệu, chúng ta có thể thấy rằng khách hàng được phân bổ ở tất cả các tiểu bang.\n",
    "- Bang có nhiều khách hàng nhất là bang có tên viết tắt WV.\n",
    "- Bang có ít khách hàng nhất là bang có tên viết tắt CA.\n"
   ]
  },
  {
   "cell_type": "code",
   "execution_count": 89,
   "id": "1fc7c152",
   "metadata": {},
   "outputs": [
    {
     "data": {
      "image/png": "[encoded data removed]",
      "text/plain": [
       "<Figure size 432x288 with 1 Axes>"
      ]
     },
     "metadata": {},
     "output_type": "display_data"
    }
   ],
   "source": [
    "Churn = data['Churn'].value_counts() \n",
    "ChurnDF = pd.DataFrame({'Churn':Churn.index, 'Quantity': Churn.values})\n",
    "quantity_F = ChurnDF['Quantity'][0] \n",
    "quantity_T = ChurnDF['Quantity'][1] \n",
    "\n",
    "percent_F = (quantity_F*100)/len(data['Churn'])\n",
    "percent_T = (quantity_T*100)/len(data['Churn'])\n",
    "\n",
    "#Pie plot\n",
    "fig = plt.figure()\n",
    "ax = fig.add_axes([0,0,1,1])\n",
    "ax.axis('equal')\n",
    "thanhphan = list(ChurnDF['Churn'])\n",
    "loai = [percent_F, percent_T]\n",
    "ax.pie(loai, labels = thanhphan,autopct='%0.2f%%')\n",
    "ax.set_title(\"Pie Plot of Churn\")\n",
    "plt.show()"
   ]
  },
  {
   "cell_type": "markdown",
   "id": "efa40122",
   "metadata": {},
   "source": [
    "## Access:\n",
    "\n",
    "- Biểu đồ hình tròn hiển thị phần trăm thuộc tính 'Churn' của khách hàng.\n",
    "- Lượng khách hàng có xu hướng False chiếm đa số với 85,51%.\n",
    "- Số lượng khách hàng có xu hướng True chiếm thiểu số với 14,49%.\n"
   ]
  },
  {
   "cell_type": "code",
   "execution_count": 90,
   "id": "a7c3f317",
   "metadata": {},
   "outputs": [
    {
     "data": {
      "image/png": "[encoded data removed]",
      "text/plain": [
       "<Figure size 432x288 with 1 Axes>"
      ]
     },
     "metadata": {},
     "output_type": "display_data"
    }
   ],
   "source": [
    "IP = data['International plan'].value_counts() \n",
    "IPDF = pd.DataFrame({'International plan':IP.index, 'Quantity': IP.values})\n",
    "quantity_F = IPDF['Quantity'][0] \n",
    "quantity_T = IPDF['Quantity'][1] \n",
    "\n",
    "percent_F = (quantity_F*100)/len(data['International plan'])\n",
    "percent_T = (quantity_T*100)/len(data['International plan'])\n",
    "\n",
    "#Pie plot\n",
    "fig = plt.figure()\n",
    "ax = fig.add_axes([0,0,1,1])\n",
    "ax.axis('equal')\n",
    "thanhphan = list(IPDF['International plan'])\n",
    "loai = [percent_F, percent_T]\n",
    "ax.pie(loai, labels = thanhphan,autopct='%0.2f%%')\n",
    "ax.set_title(\"Pie Plot of International plan\")\n",
    "plt.show()"
   ]
  },
  {
   "cell_type": "markdown",
   "id": "7942c072",
   "metadata": {},
   "source": [
    "## Access:\n",
    "- Biểu đồ hình tròn hiển thị phần trăm thuộc tính 'International plan' của khách hàng.\n",
    "- Lượng khách hàng có xu hướng False chiếm đa số với 90,31%.\n",
    "- Số lượng khách hàng có xu hướng True chiếm thiểu số với 9,69%."
   ]
  },
  {
   "cell_type": "code",
   "execution_count": 91,
   "id": "61268a81",
   "metadata": {},
   "outputs": [
    {
     "data": {
      "image/png": "[encoded data removed]",
      "text/plain": [
       "<Figure size 432x288 with 1 Axes>"
      ]
     },
     "metadata": {},
     "output_type": "display_data"
    }
   ],
   "source": [
    "VM = data['Voice mail plan'].value_counts() \n",
    "VMDF = pd.DataFrame({'Voice mail plan':VM.index, 'Quantity': VM.values})\n",
    "quantity_F = VMDF['Quantity'][0] \n",
    "quantity_T = VMDF['Quantity'][1] \n",
    "\n",
    "percent_F = (quantity_F*100)/len(data['Voice mail plan'])\n",
    "percent_T = (quantity_T*100)/len(data['Voice mail plan'])\n",
    "\n",
    "#Pie plot\n",
    "fig = plt.figure()\n",
    "ax = fig.add_axes([0,0,1,1])\n",
    "ax.axis('equal')\n",
    "thanhphan = list(VMDF['Voice mail plan'])\n",
    "loai = [percent_F, percent_T]\n",
    "ax.pie(loai, labels = thanhphan,autopct='%0.2f%%')\n",
    "ax.set_title(\"Pie Plot of Voice mail plan\")\n",
    "plt.show()"
   ]
  },
  {
   "cell_type": "markdown",
   "id": "5625aa91",
   "metadata": {},
   "source": [
    "## Access:\n",
    "- Biểu đồ hình tròn hiển thị phần trăm thuộc tính 'Voice mail plan' của khách hàng.\n",
    "- Lượng khách hàng có xu hướng False chiếm đa số với 72,34%.\n",
    "- Số lượng khách hàng có xu hướng True chiếm thiểu số với 27,66%."
   ]
  },
  {
   "cell_type": "code",
   "execution_count": 92,
   "id": "7abb8e3f",
   "metadata": {},
   "outputs": [
    {
     "data": {
      "image/png": "[encoded data removed]",
      "text/plain": [
       "<Figure size 432x288 with 1 Axes>"
      ]
     },
     "metadata": {},
     "output_type": "display_data"
    }
   ],
   "source": [
    "vmail = data['Number vmail messages'].value_counts() \n",
    "vmailDF = pd.DataFrame({'Number vmail messages':IP.index, 'Quantity': IP.values})\n",
    "quantity_F = vmailDF['Quantity'][0] \n",
    "quantity_T = vmailDF['Quantity'][1] \n",
    "\n",
    "percent_F = (quantity_F*100)/len(data['Number vmail messages'])\n",
    "percent_T = (quantity_T*100)/len(data['Number vmail messages'])\n",
    "\n",
    "#Pie plot\n",
    "fig = plt.figure()\n",
    "ax = fig.add_axes([0,0,1,1])\n",
    "ax.axis('equal')\n",
    "thanhphan = list(vmailDF['Number vmail messages'])\n",
    "loai = [percent_F, percent_T]\n",
    "ax.pie(loai, labels = thanhphan,autopct='%0.2f%%')\n",
    "ax.set_title(\"Pie Plot of Number vmail messages\")\n",
    "plt.show()"
   ]
  },
  {
   "cell_type": "markdown",
   "id": "7ee4cc53",
   "metadata": {},
   "source": [
    "## Access: \n",
    "- Biểu đồ hình tròn hiển thị phần trăm thuộc tính 'Number vmail messages' của khách hàng.\n",
    "- Lượng khách hàng có xu hướng False chiếm đa số với 90,31%.\n",
    "- Số lượng khách hàng có xu hướng True chiếm thiểu số với 9,69%."
   ]
  },
  {
   "cell_type": "code",
   "execution_count": 93,
   "id": "c7e484fe",
   "metadata": {},
   "outputs": [],
   "source": [
    "def DrawHistogram(DataFrame, att):\n",
    "  import matplotlib.pyplot as plt\n",
    "  plt.figure()\n",
    "  DataFrame[att].hist(edgecolor='black', bins=20)\n",
    "  plt.title(att)\n",
    "  plt.show()"
   ]
  },
  {
   "cell_type": "code",
   "execution_count": 94,
   "id": "a9235a7e",
   "metadata": {
    "scrolled": true
   },
   "outputs": [
    {
     "data": {
      "text/plain": [
       "105    43\n",
       "87     42\n",
       "101    40\n",
       "93     40\n",
       "90     39\n",
       "       ..\n",
       "200     1\n",
       "188     1\n",
       "26      1\n",
       "8       1\n",
       "243     1\n",
       "Name: Account length, Length: 212, dtype: int64"
      ]
     },
     "execution_count": 94,
     "metadata": {},
     "output_type": "execute_result"
    }
   ],
   "source": [
    "data['Account length'].value_counts()\n"
   ]
  },
  {
   "cell_type": "code",
   "execution_count": 95,
   "id": "65cae191",
   "metadata": {},
   "outputs": [
    {
     "data": {
      "image/png": "[encoded data removed]",
      "text/plain": [
       "<Figure size 432x288 with 1 Axes>"
      ]
     },
     "metadata": {
      "needs_background": "light"
     },
     "output_type": "display_data"
    }
   ],
   "source": [
    "DrawHistogram(data,'Account length')"
   ]
  },
  {
   "cell_type": "markdown",
   "id": "bb8e0acc",
   "metadata": {},
   "source": [
    "## Access:\n",
    "- Số lượng khách hàng gắn bó với công ty trải dài khắp các năm.\n",
    "- Khách hàng gắn bó lâu nhất với công ty cao nhất là 243.\n",
    "- Số lượng khách hàng gắn bó với công ty nhiều nhất là 43 người."
   ]
  },
  {
   "cell_type": "code",
   "execution_count": 96,
   "id": "09a54214",
   "metadata": {},
   "outputs": [
    {
     "data": {
      "text/plain": [
       "415    1655\n",
       "510     840\n",
       "408     838\n",
       "Name: Area code, dtype: int64"
      ]
     },
     "execution_count": 96,
     "metadata": {},
     "output_type": "execute_result"
    }
   ],
   "source": [
    "data['Area code'].value_counts()"
   ]
  },
  {
   "cell_type": "code",
   "execution_count": 97,
   "id": "af665473",
   "metadata": {},
   "outputs": [
    {
     "data": {
      "text/plain": [
       "<AxesSubplot:xlabel='Area code', ylabel='count'>"
      ]
     },
     "execution_count": 97,
     "metadata": {},
     "output_type": "execute_result"
    },
    {
     "data": {
      "image/png": "[encoded data removed]",
      "text/plain": [
       "<Figure size 432x288 with 1 Axes>"
      ]
     },
     "metadata": {
      "needs_background": "light"
     },
     "output_type": "display_data"
    }
   ],
   "source": [
    "sns.countplot(data['Area code'])"
   ]
  },
  {
   "cell_type": "markdown",
   "id": "a223c455",
   "metadata": {},
   "source": [
    "## Access:\n",
    "\n",
    "- Biểu đồ cột cho thấy mã vùng chỉ có 3 loại phổ biến là 408, 415 và 510.\n",
    "- Mã vùng '415' chiếm số lượng nhiều nhất với 1655.\n",
    "- Mã vùng '408' chiếm số lượng ít nhất với 838."
   ]
  },
  {
   "cell_type": "code",
   "execution_count": 98,
   "id": "4a5f7691",
   "metadata": {},
   "outputs": [
    {
     "name": "stdout",
     "output_type": "stream",
     "text": [
      "350.8\n",
      "0.0\n"
     ]
    }
   ],
   "source": [
    "print(data['Total day minutes'].max())\n",
    "print(data['Total day minutes'].min())"
   ]
  },
  {
   "cell_type": "code",
   "execution_count": 99,
   "id": "5152b80c",
   "metadata": {},
   "outputs": [
    {
     "data": {
      "image/png": "[encoded data removed]",
      "text/plain": [
       "<Figure size 432x288 with 1 Axes>"
      ]
     },
     "metadata": {
      "needs_background": "light"
     },
     "output_type": "display_data"
    }
   ],
   "source": [
    "DrawHistogram(data,'Total day minutes')"
   ]
  },
  {
   "cell_type": "markdown",
   "id": "01269013",
   "metadata": {},
   "source": [
    "## Access:\n",
    "\n",
    "- Biểu đồ cột thể hiện tổng thời gian gọi của khách hàng trong ngày trải dài từ 0 phút cho đến hơn 350 phút. \n",
    "- Số phút gọi cao nhất trong ngày là 350.8 phút và thấp nhất là 0 phút.\n",
    "- Các khách hàng đa phần chỉ gọi nhiều nhất trong khoảng hơn 100 cho đến 200 phút."
   ]
  },
  {
   "cell_type": "code",
   "execution_count": 100,
   "id": "495c09e7",
   "metadata": {},
   "outputs": [
    {
     "name": "stdout",
     "output_type": "stream",
     "text": [
      "165\n",
      "0\n"
     ]
    }
   ],
   "source": [
    "print(data['Total day calls'].max())\n",
    "print(data['Total day calls'].min())"
   ]
  },
  {
   "cell_type": "code",
   "execution_count": 101,
   "id": "f12dfe67",
   "metadata": {},
   "outputs": [
    {
     "data": {
      "image/png": "[encoded data removed]",
      "text/plain": [
       "<Figure size 432x288 with 1 Axes>"
      ]
     },
     "metadata": {
      "needs_background": "light"
     },
     "output_type": "display_data"
    }
   ],
   "source": [
    "DrawHistogram(data, 'Total day calls')"
   ]
  },
  {
   "cell_type": "markdown",
   "id": "e1a41d89",
   "metadata": {},
   "source": [
    "## Access:\n",
    "- Biểu đồ cột thể hiện số cuộc gọi của khách hàng trong ngày trải dài từ 0 cuộc gọi cho đến hơn 150 cuộc gọi. \n",
    "- Số cuộc gọi nhiều nhất trong ngày là 165 cuộc gọi và thấp nhất là 0 cuộc gọi.\n",
    "- Phần lớn khách hàng sử dụng dịch vụ gọi điện chỉ từ khoảng 75 cho đến 125 cuộc gọi trong ngày.\n"
   ]
  },
  {
   "cell_type": "code",
   "execution_count": 102,
   "id": "4f142056",
   "metadata": {},
   "outputs": [
    {
     "name": "stdout",
     "output_type": "stream",
     "text": [
      "59.64\n",
      "0.0\n"
     ]
    }
   ],
   "source": [
    "print(data['Total day charge'].max())\n",
    "print(data['Total day charge'].min())"
   ]
  },
  {
   "cell_type": "code",
   "execution_count": 103,
   "id": "35bbec6a",
   "metadata": {},
   "outputs": [
    {
     "data": {
      "image/png": "[encoded data removed]",
      "text/plain": [
       "<Figure size 432x288 with 1 Axes>"
      ]
     },
     "metadata": {
      "needs_background": "light"
     },
     "output_type": "display_data"
    }
   ],
   "source": [
    "DrawHistogram(data, 'Total day charge')"
   ]
  },
  {
   "cell_type": "markdown",
   "id": "669ce0bf",
   "metadata": {},
   "source": [
    "## Access:\n",
    "- Biểu đồ cột thể hiện giá tiền mà khách hàng phải trả trong ngày trong khoảng từ 10 cho đến 50.\n",
    "- Số tiền cao nhất mà khách hàng phải trả cho dịch vụ là 59.64.\n",
    "- Số tiền thấp nhất mà khách hàng phải trả cho dịch vụ là 0."
   ]
  },
  {
   "cell_type": "code",
   "execution_count": 104,
   "id": "74119d39",
   "metadata": {},
   "outputs": [
    {
     "name": "stdout",
     "output_type": "stream",
     "text": [
      "363.7\n",
      "0.0\n"
     ]
    }
   ],
   "source": [
    "print(data['Total eve minutes'].max())\n",
    "print(data['Total eve minutes'].min())"
   ]
  },
  {
   "cell_type": "code",
   "execution_count": 105,
   "id": "c7ffe58a",
   "metadata": {},
   "outputs": [
    {
     "data": {
      "image/png": "[encoded data removed]",
      "text/plain": [
       "<Figure size 432x288 with 1 Axes>"
      ]
     },
     "metadata": {
      "needs_background": "light"
     },
     "output_type": "display_data"
    }
   ],
   "source": [
    "DrawHistogram(data, 'Total eve minutes')"
   ]
  },
  {
   "cell_type": "markdown",
   "id": "f0880f30",
   "metadata": {},
   "source": [
    "## Access:\n",
    "\n",
    "- Biểu đồ cột thể hiện tổng thời gian gọi của khách hàng trong buổi chiều trải dài từ 0 phút cho đến hơn 350 phút. \n",
    "- Số phút gọi cao nhất trong buổi chiều là 363.7 phút và thấp nhất là 0 phút.\n",
    "- Các khách hàng đa phần chỉ gọi nhiều nhất trong khoảng hơn 100 cho đến 250 phút."
   ]
  },
  {
   "cell_type": "code",
   "execution_count": 106,
   "id": "2fde76a2",
   "metadata": {},
   "outputs": [
    {
     "name": "stdout",
     "output_type": "stream",
     "text": [
      "170\n",
      "0\n"
     ]
    }
   ],
   "source": [
    "print(data['Total eve calls'].max())\n",
    "print(data['Total eve calls'].min())"
   ]
  },
  {
   "cell_type": "code",
   "execution_count": 107,
   "id": "8881a022",
   "metadata": {},
   "outputs": [
    {
     "data": {
      "image/png": "[encoded data removed]",
      "text/plain": [
       "<Figure size 432x288 with 1 Axes>"
      ]
     },
     "metadata": {
      "needs_background": "light"
     },
     "output_type": "display_data"
    }
   ],
   "source": [
    "DrawHistogram(data, 'Total eve calls')"
   ]
  },
  {
   "cell_type": "markdown",
   "id": "e60e1c3c",
   "metadata": {},
   "source": [
    "## Access:\n",
    "- Biểu đồ cột thể hiện số cuộc gọi của khách hàng trong buổi chiều trải dài từ 0 cuộc gọi cho đến hơn 160 cuộc gọi. \n",
    "- Số cuộc gọi nhiều nhất trong buổi chiều là 170 cuộc gọi và thấp nhất là 0 cuộc gọi.\n",
    "- Phần lớn khách hàng sử dụng dịch vụ gọi điện chỉ từ khoảng 75 cho đến 125 cuộc gọi trong buổi chiều.\n"
   ]
  },
  {
   "cell_type": "code",
   "execution_count": 108,
   "id": "088d485b",
   "metadata": {},
   "outputs": [
    {
     "name": "stdout",
     "output_type": "stream",
     "text": [
      "30.91\n",
      "0.0\n"
     ]
    }
   ],
   "source": [
    "print(data['Total eve charge'].max())\n",
    "print(data['Total eve charge'].min())"
   ]
  },
  {
   "cell_type": "code",
   "execution_count": 109,
   "id": "c015af4f",
   "metadata": {},
   "outputs": [
    {
     "data": {
      "image/png": "[encoded data removed]",
      "text/plain": [
       "<Figure size 432x288 with 1 Axes>"
      ]
     },
     "metadata": {
      "needs_background": "light"
     },
     "output_type": "display_data"
    }
   ],
   "source": [
    "DrawHistogram(data, 'Total eve charge')"
   ]
  },
  {
   "cell_type": "markdown",
   "id": "1fd33928",
   "metadata": {},
   "source": [
    "## Access:\n",
    "- Biểu đồ cột thể hiện giá tiền mà khách hàng phải trả trong buổi chiều trong khoảng từ 5 cho đến 30.\n",
    "- Số tiền cao nhất mà khách hàng phải trả cho dịch vụ là 30.91.\n",
    "- Số tiền thấp nhất mà khách hàng phải trả cho dịch vụ là 0."
   ]
  },
  {
   "cell_type": "code",
   "execution_count": 110,
   "id": "b01046c1",
   "metadata": {},
   "outputs": [
    {
     "name": "stdout",
     "output_type": "stream",
     "text": [
      "395.0\n",
      "23.2\n"
     ]
    }
   ],
   "source": [
    "print(data['Total night minutes'].max())\n",
    "print(data['Total night minutes'].min())"
   ]
  },
  {
   "cell_type": "code",
   "execution_count": 111,
   "id": "f34d8f58",
   "metadata": {},
   "outputs": [
    {
     "data": {
      "image/png": "[encoded data removed]",
      "text/plain": [
       "<Figure size 432x288 with 1 Axes>"
      ]
     },
     "metadata": {
      "needs_background": "light"
     },
     "output_type": "display_data"
    }
   ],
   "source": [
    "DrawHistogram(data, 'Total night minutes')"
   ]
  },
  {
   "cell_type": "markdown",
   "id": "8a2b5937",
   "metadata": {},
   "source": [
    "## Access:\n",
    "\n",
    "- Biểu đồ cột thể hiện tổng thời gian gọi của khách hàng trong đêm trải dài từ 23 phút cho đến hơn 390 phút. \n",
    "- Số phút gọi cao nhất trong đêm là 395 phút và thấp nhất là 23.2 phút.\n",
    "- Các khách hàng đa phần chỉ gọi nhiều nhất trong khoảng hơn 100 cho đến 250 phút."
   ]
  },
  {
   "cell_type": "code",
   "execution_count": 112,
   "id": "02f32d88",
   "metadata": {},
   "outputs": [
    {
     "name": "stdout",
     "output_type": "stream",
     "text": [
      "175\n",
      "33\n"
     ]
    }
   ],
   "source": [
    "print(data['Total night calls'].max())\n",
    "print(data['Total night calls'].min())"
   ]
  },
  {
   "cell_type": "code",
   "execution_count": 113,
   "id": "7951e8f0",
   "metadata": {},
   "outputs": [
    {
     "data": {
      "image/png": "[encoded data removed]",
      "text/plain": [
       "<Figure size 432x288 with 1 Axes>"
      ]
     },
     "metadata": {
      "needs_background": "light"
     },
     "output_type": "display_data"
    }
   ],
   "source": [
    "DrawHistogram(data, 'Total night calls')"
   ]
  },
  {
   "cell_type": "markdown",
   "id": "35c00845",
   "metadata": {},
   "source": [
    "## Access:\n",
    "- Biểu đồ cột thể hiện số cuộc gọi của khách hàng trong đêm trải dài từ 0 cuộc gọi cho đến hơn 150 cuộc gọi. \n",
    "- Số cuộc gọi nhiều nhất trong đêm là 175 cuộc gọi và thấp nhất là 33 cuộc gọi.\n",
    "- Phần lớn khách hàng sử dụng dịch vụ gọi điện chỉ từ khoảng 75 cho đến 125 cuộc gọi trong đêm.\n"
   ]
  },
  {
   "cell_type": "code",
   "execution_count": 114,
   "id": "1201db08",
   "metadata": {},
   "outputs": [
    {
     "name": "stdout",
     "output_type": "stream",
     "text": [
      "17.77\n",
      "1.04\n"
     ]
    }
   ],
   "source": [
    "print(data['Total night charge'].max())\n",
    "print(data['Total night charge'].min())"
   ]
  },
  {
   "cell_type": "code",
   "execution_count": 115,
   "id": "2d7b3fe0",
   "metadata": {},
   "outputs": [
    {
     "data": {
      "image/png": "[encoded data removed]",
      "text/plain": [
       "<Figure size 432x288 with 1 Axes>"
      ]
     },
     "metadata": {
      "needs_background": "light"
     },
     "output_type": "display_data"
    }
   ],
   "source": [
    "DrawHistogram(data, 'Total night charge')"
   ]
  },
  {
   "cell_type": "markdown",
   "id": "9aa0b2dc",
   "metadata": {},
   "source": [
    "## Access:\n",
    "- Biểu đồ cột thể hiện giá tiền mà khách hàng phải trả trong đêm trong khoảng từ 2.5 cho đến 17.5.\n",
    "- Số tiền cao nhất mà khách hàng phải trả cho dịch vụ là 17.77.\n",
    "- Số tiền thấp nhất mà khách hàng phải trả cho dịch vụ là 1.04."
   ]
  },
  {
   "cell_type": "code",
   "execution_count": 116,
   "id": "f318785b",
   "metadata": {},
   "outputs": [
    {
     "name": "stdout",
     "output_type": "stream",
     "text": [
      "20.0\n",
      "0.0\n"
     ]
    }
   ],
   "source": [
    "print(data['Total intl minutes'].max())\n",
    "print(data['Total intl minutes'].min())"
   ]
  },
  {
   "cell_type": "code",
   "execution_count": 117,
   "id": "34c8617a",
   "metadata": {},
   "outputs": [
    {
     "data": {
      "image/png": "[encoded data removed]",
      "text/plain": [
       "<Figure size 432x288 with 1 Axes>"
      ]
     },
     "metadata": {
      "needs_background": "light"
     },
     "output_type": "display_data"
    }
   ],
   "source": [
    "DrawHistogram(data, 'Total intl minutes')"
   ]
  },
  {
   "cell_type": "markdown",
   "id": "695eccaf",
   "metadata": {},
   "source": [
    "## Access:\n",
    "\n",
    "- Biểu đồ cột thể hiện tổng thời gian gọi của khách hàng quốc tế trải dài từ 2 phút cho đến hơn 17 phút. \n",
    "- Số phút gọi cao nhất quốc tế là 20 phút và thấp nhất là 0 phút.\n",
    "- Các khách hàng đa phần chỉ gọi nhiều nhất trong khoảng hơn 5 cho đến 15 phút."
   ]
  },
  {
   "cell_type": "code",
   "execution_count": 118,
   "id": "ec514397",
   "metadata": {},
   "outputs": [
    {
     "name": "stdout",
     "output_type": "stream",
     "text": [
      "20\n",
      "0\n"
     ]
    }
   ],
   "source": [
    "print(data['Total intl calls'].max())\n",
    "print(data['Total intl calls'].min())"
   ]
  },
  {
   "cell_type": "code",
   "execution_count": 119,
   "id": "92466306",
   "metadata": {},
   "outputs": [
    {
     "data": {
      "image/png": "[encoded data removed]",
      "text/plain": [
       "<Figure size 432x288 with 1 Axes>"
      ]
     },
     "metadata": {
      "needs_background": "light"
     },
     "output_type": "display_data"
    }
   ],
   "source": [
    "DrawHistogram(data, 'Total intl calls')"
   ]
  },
  {
   "cell_type": "markdown",
   "id": "3b1a1a60",
   "metadata": {},
   "source": [
    "## Access:\n",
    "- Biểu đồ cột thể hiện số cuộc gọi của khách hàng quốc tế trải dài từ 2 cuộc gọi cho đến hơn 15 cuộc gọi. \n",
    "- Số cuộc gọi nhiều nhất là 20 cuộc gọi và thấp nhất là 0 cuộc gọi.\n",
    "- Phần lớn khách hàng sử dụng dịch vụ gọi điện chỉ từ khoảng 2 cho đến 7 cuộc gọi quốc tế.\n"
   ]
  },
  {
   "cell_type": "code",
   "execution_count": 120,
   "id": "7ffa73e8",
   "metadata": {},
   "outputs": [
    {
     "name": "stdout",
     "output_type": "stream",
     "text": [
      "5.4\n",
      "0.0\n"
     ]
    }
   ],
   "source": [
    "print(data['Total intl charge'].max())\n",
    "print(data['Total intl charge'].min())"
   ]
  },
  {
   "cell_type": "code",
   "execution_count": 121,
   "id": "335ec38c",
   "metadata": {},
   "outputs": [
    {
     "data": {
      "image/png": "[encoded data removed]",
      "text/plain": [
       "<Figure size 432x288 with 1 Axes>"
      ]
     },
     "metadata": {
      "needs_background": "light"
     },
     "output_type": "display_data"
    }
   ],
   "source": [
    "DrawHistogram(data, 'Total intl charge')"
   ]
  },
  {
   "cell_type": "markdown",
   "id": "8ca522a2",
   "metadata": {},
   "source": [
    "## Access:\n",
    "- Biểu đồ cột thể hiện giá tiền mà khách hàng phải trả cho cuộc gọi quốc tế trong khoảng từ 1 cho đến 5.\n",
    "- Số tiền cao nhất mà khách hàng phải trả cho dịch vụ là 5.4.\n",
    "- Số tiền thấp nhất mà khách hàng phải trả cho dịch vụ là 0."
   ]
  },
  {
   "cell_type": "code",
   "execution_count": 122,
   "id": "1ec00371",
   "metadata": {},
   "outputs": [
    {
     "name": "stdout",
     "output_type": "stream",
     "text": [
      "9\n",
      "0\n"
     ]
    }
   ],
   "source": [
    "print(data['Customer service calls'].max())\n",
    "print(data['Customer service calls'].min())"
   ]
  },
  {
   "cell_type": "code",
   "execution_count": 123,
   "id": "1555552e",
   "metadata": {},
   "outputs": [
    {
     "data": {
      "image/png": "[encoded data removed]",
      "text/plain": [
       "<Figure size 432x288 with 1 Axes>"
      ]
     },
     "metadata": {
      "needs_background": "light"
     },
     "output_type": "display_data"
    }
   ],
   "source": [
    "DrawHistogram(data, 'Customer service calls')"
   ]
  },
  {
   "cell_type": "markdown",
   "id": "7840b55d",
   "metadata": {},
   "source": [
    "## Access:\n",
    "- Biểu đồ cột thể hiện số cuộc gọi cho dịch vụ chăm sóc khách hàng.\n",
    "- Các khách hàng đa phần chỉ sử dụng dịch vụ chăm sóc 1 lần.\n",
    "- Chỉ có 1 khách hàng sử dụng dịch vụ chăm sóc tới 9 cuộc gọi."
   ]
  },
  {
   "cell_type": "code",
   "execution_count": null,
   "id": "2d928c6f",
   "metadata": {},
   "outputs": [],
   "source": []
  }
 ],
 "metadata": {
  "kernelspec": {
   "display_name": "Python 3",
   "language": "python",
   "name": "python3"
  },
  "language_info": {
   "codemirror_mode": {
    "name": "ipython",
    "version": 3
   },
   "file_extension": ".py",
   "mimetype": "text/x-python",
   "name": "python",
   "nbconvert_exporter": "python",
   "pygments_lexer": "ipython3",
   "version": "3.8.8"
  }
 },
 "nbformat": 4,
 "nbformat_minor": 5
}
