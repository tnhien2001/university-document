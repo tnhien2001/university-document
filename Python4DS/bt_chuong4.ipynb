{
 "cells": [
  {
   "cell_type": "code",
   "execution_count": 2,
   "id": "65167723",
   "metadata": {},
   "outputs": [
    {
     "name": "stdout",
     "output_type": "stream",
     "text": [
      "too high\n"
     ]
    }
   ],
   "source": [
    "#Bài 4.1:\n",
    "\n",
    "guess_me = 7\n",
    "\n",
    "if guess_me < 7:\n",
    "    print('too low')\n",
    "elif guess_me == 7:\n",
    "    print('just right')\n",
    "else:\n",
    "    print('too high')"
   ]
  },
  {
   "cell_type": "code",
   "execution_count": 3,
   "id": "e8d6bb99",
   "metadata": {},
   "outputs": [
    {
     "name": "stdout",
     "output_type": "stream",
     "text": [
      "too low\n",
      "too low\n",
      "too low\n",
      "too low\n",
      "too low\n",
      "too low\n"
     ]
    }
   ],
   "source": [
    "#Bài 4.2:\n",
    "\n",
    "guess_me = 7\n",
    "start = 1\n",
    "while start  guess_me:\n",
    "    if start < guess_me:\n",
    "        print('too low')\n",
    "    elif start == guess_me:\n",
    "        print('found it')\n",
    "    else:\n",
    "        print('too high')\n",
    "    start +=1\n",
    "    "
   ]
  },
  {
   "cell_type": "code",
   "execution_count": null,
   "id": "29a29870",
   "metadata": {},
   "outputs": [],
   "source": []
  }
 ],
 "metadata": {
  "kernelspec": {
   "display_name": "Python 3",
   "language": "python",
   "name": "python3"
  },
  "language_info": {
   "codemirror_mode": {
    "name": "ipython",
    "version": 3
   },
   "file_extension": ".py",
   "mimetype": "text/x-python",
   "name": "python",
   "nbconvert_exporter": "python",
   "pygments_lexer": "ipython3",
   "version": "3.8.8"
  }
 },
 "nbformat": 4,
 "nbformat_minor": 5
}
