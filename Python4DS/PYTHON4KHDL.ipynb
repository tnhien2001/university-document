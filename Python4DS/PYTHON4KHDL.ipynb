{
  "nbformat": 4,
  "nbformat_minor": 0,
  "metadata": {
    "colab": {
      "name": "PYTHON4KHDL.ipynb",
      "provenance": [],
      "collapsed_sections": []
    },
    "kernelspec": {
      "name": "python3",
      "display_name": "Python 3"
    },
    "language_info": {
      "name": "python"
    }
  },
  "cells": [
    {
      "cell_type": "code",
      "execution_count": 1,
      "metadata": {
        "id": "rrZgtZivle0_"
      },
      "outputs": [],
      "source": [
        "import requests\n",
        "from bs4 import BeautifulSoup\n",
        "import csv"
      ]
    },
    {
      "cell_type": "code",
      "source": [
        "link_base=\"https://360boutique.vn/cua-hang/\"\n",
        "list_link=[]\n",
        "for one in range(1,23):\n",
        "  item=link_base+ 'page/'+str(one)\n",
        "  list_link.append(item)\n",
        "print(list_link)"
      ],
      "metadata": {
        "colab": {
          "base_uri": "https://localhost:8080/"
        },
        "id": "Mazu3nAWlhDz",
        "outputId": "3c511b6c-ecda-4ac4-e00c-9e85bed0fbb4"
      },
      "execution_count": 2,
      "outputs": [
        {
          "output_type": "stream",
          "name": "stdout",
          "text": [
            "['https://360boutique.vn/cua-hang/page/1', 'https://360boutique.vn/cua-hang/page/2', 'https://360boutique.vn/cua-hang/page/3', 'https://360boutique.vn/cua-hang/page/4', 'https://360boutique.vn/cua-hang/page/5', 'https://360boutique.vn/cua-hang/page/6', 'https://360boutique.vn/cua-hang/page/7', 'https://360boutique.vn/cua-hang/page/8', 'https://360boutique.vn/cua-hang/page/9', 'https://360boutique.vn/cua-hang/page/10', 'https://360boutique.vn/cua-hang/page/11', 'https://360boutique.vn/cua-hang/page/12', 'https://360boutique.vn/cua-hang/page/13', 'https://360boutique.vn/cua-hang/page/14', 'https://360boutique.vn/cua-hang/page/15', 'https://360boutique.vn/cua-hang/page/16', 'https://360boutique.vn/cua-hang/page/17', 'https://360boutique.vn/cua-hang/page/18', 'https://360boutique.vn/cua-hang/page/19', 'https://360boutique.vn/cua-hang/page/20', 'https://360boutique.vn/cua-hang/page/21', 'https://360boutique.vn/cua-hang/page/22']\n"
          ]
        }
      ]
    },
    {
      "cell_type": "code",
      "source": [
        "headers = {'User-Agent': 'Mozilla/5.0 (Macintosh; Intel Mac OS X 10_10_1) AppleWebKit/537.36 (KHTML, like Gecko) Chrome/39.0.2171.95 Safari/537.36'}\n",
        "f=open(\"output1.csv\",\"a\")\n",
        "\n",
        "Name='Name'\n",
        "Img='Image'\n",
        "Price='Price'\n",
        "fields =f\"{Name}, {Img}, {Price},\\n\"\n",
        "f.write(fields)\n",
        "\n",
        "for i in range(len(list_link)):\n",
        "  link = list_link[i]\n",
        "  r= requests.get(link,headers=headers)  # một số web ktra robot fake id lại = header\n",
        "  crawl=BeautifulSoup(r.text,'html.parser')\n",
        "  product_data=crawl.find_all(\"div\", class_=\"col-md-3 col-sm-6 col-xs-6 pro-loop col-5\")  \n",
        "  for j in product_data:\n",
        "    img = j.find('a').find('img')['src']\n",
        "    name  = j.find('a').find('img')['alt']\n",
        "    price = j.find('p').find('bdi').text\n",
        "    str=f\"{name}, {img}, {price},\\n\" \n",
        "    f.write(str)\n",
        "f.close"
      ],
      "metadata": {
        "colab": {
          "base_uri": "https://localhost:8080/"
        },
        "id": "O4hrEd9lliTl",
        "outputId": "24735203-4d2c-43ab-ae12-469dfe8a0a61"
      },
      "execution_count": 4,
      "outputs": [
        {
          "output_type": "execute_result",
          "data": {
            "text/plain": [
              "<function TextIOWrapper.close>"
            ]
          },
          "metadata": {},
          "execution_count": 4
        }
      ]
    },
    {
      "cell_type": "code",
      "source": [
        "#In ảnh từ link \n",
        "from PIL import Image\n",
        "import requests\n",
        "from io import BytesIO\n",
        "response = requests.get('https://360boutique.vn/wp-content/uploads/2018/08/G1011-750k-1-copy-Copy-400x600.jpg')\n",
        "img = Image.open(BytesIO(response.content))\n",
        "img"
      ],
      "metadata": {
        "id": "VDYqLjg0lkJo"
      },
      "execution_count": null,
      "outputs": []
    }
  ]
}