{
 "cells": [
  {
   "cell_type": "markdown",
   "metadata": {
    "id": "DMKtRit8UrZf"
   },
   "source": [
    "# BÀI TẬP CHƯƠNG 5\n",
    "------------------------------------\n",
    "### Họ tên: Trịnh Ngọc Hiến\n",
    "### MSSV: 19110315\n",
    "Viết bằng google colab"
   ]
  },
  {
   "cell_type": "code",
   "execution_count": null,
   "metadata": {
    "colab": {
     "base_uri": "https://localhost:8080/"
    },
    "id": "FZCmDx_yMBmr",
    "outputId": "c33ae6bc-29b2-42ec-98fb-39c9805b6ba4"
   },
   "outputs": [
    {
     "name": "stdout",
     "output_type": "stream",
     "text": [
      "Requirement already satisfied: report in /usr/local/lib/python3.7/dist-packages (0.0.1)\n"
     ]
    }
   ],
   "source": [
    "!pip install report"
   ]
  },
  {
   "cell_type": "code",
   "execution_count": null,
   "metadata": {
    "colab": {
     "base_uri": "https://localhost:8080/"
    },
    "id": "USr3f05GI9H0",
    "outputId": "bcbe0870-81f9-4351-8a7b-75f7397596b4"
   },
   "outputs": [
    {
     "name": "stdout",
     "output_type": "stream",
     "text": [
      "Overwriting zoo.py\n"
     ]
    }
   ],
   "source": [
    "#5.1. Create a file called zoo.py. In it, define a function called hours() \n",
    "# that prints the string 'Open 9-5 daily'. \n",
    "# Then, use the interactive interpreter to import the zoomodule\n",
    "# and call its hours() function.\n",
    "\n",
    "\n",
    "%%writefile zoo.py\n",
    "\n",
    "def hours():\n",
    "  return 'Open 9-5 daily.'\n",
    "\n",
    "print(\"When the zoo open?\\n\",hours())"
   ]
  },
  {
   "cell_type": "code",
   "execution_count": null,
   "metadata": {
    "colab": {
     "base_uri": "https://localhost:8080/"
    },
    "id": "zEToNLDjOpnC",
    "outputId": "2b422888-3b53-40db-9c34-f41ca98443f7"
   },
   "outputs": [
    {
     "name": "stdout",
     "output_type": "stream",
     "text": [
      "When the zoo open?\n",
      " Open 9-5 daily.\n"
     ]
    }
   ],
   "source": [
    "!python zoo.py"
   ]
  },
  {
   "cell_type": "code",
   "execution_count": null,
   "metadata": {
    "colab": {
     "base_uri": "https://localhost:8080/"
    },
    "id": "tIKd6AgWOOMQ",
    "outputId": "4074895c-bf64-422a-fe1f-260583e56588"
   },
   "outputs": [
    {
     "name": "stdout",
     "output_type": "stream",
     "text": [
      "Open 9-5 daily.\n",
      "-------\n",
      "Open 9-5 daily.\n"
     ]
    }
   ],
   "source": [
    "# 5.2. In the interactive interpreter, \n",
    "# import the zoo module as menagerie and call its hours() function.\n",
    "\n",
    "import zoo\n",
    "zoo.hours()\n",
    "print('-------')\n",
    "# 5.3. Staying in the interpreter, \n",
    "# import the hours() function from zoo directly and call it.\n",
    "\n",
    "from zoo import hours\n",
    "hours()\n"
   ]
  },
  {
   "cell_type": "code",
   "execution_count": null,
   "metadata": {
    "colab": {
     "base_uri": "https://localhost:8080/"
    },
    "id": "vK6XDhzhQKLb",
    "outputId": "a2031c8a-1f72-42a5-a604-fd7c664a0b4f"
   },
   "outputs": [
    {
     "data": {
      "text/plain": [
       "<function zoo.hours>"
      ]
     },
     "execution_count": 75,
     "metadata": {},
     "output_type": "execute_result"
    }
   ],
   "source": [
    "#5.4. Import the hours() function as info and call it\n",
    "from zoo import hours as info\n",
    "\n",
    "information = info\n",
    "information\n"
   ]
  },
  {
   "cell_type": "code",
   "execution_count": null,
   "metadata": {
    "colab": {
     "base_uri": "https://localhost:8080/"
    },
    "id": "J-StTTeyJUcz",
    "outputId": "2751e0cf-15c3-47c0-b7c8-8b032aa8504b"
   },
   "outputs": [
    {
     "name": "stdout",
     "output_type": "stream",
     "text": [
      "<class 'dict'>\n",
      "{'a': 1, 'b': 2, 'c': 3}\n"
     ]
    }
   ],
   "source": [
    "# 5.5. Make a dictionary called plain with the key-value \n",
    "# pairs 'a': 1, 'b': 2, and 'c': 3, and then print it.\n",
    "\n",
    "\n",
    "\n",
    "test = {'a': 1, 'b': 2, 'c': 3}\n",
    "print(type(test))\n",
    "print(test)\n"
   ]
  },
  {
   "cell_type": "code",
   "execution_count": null,
   "metadata": {
    "colab": {
     "base_uri": "https://localhost:8080/"
    },
    "id": "62YG5Do4OIAi",
    "outputId": "d1bc24d1-d47c-4be1-bf94-2225c3d0c77d"
   },
   "outputs": [
    {
     "name": "stdout",
     "output_type": "stream",
     "text": [
      "<class 'collections.OrderedDict'>\n",
      "OrderedDict([('a', 1), ('b', 2), ('c', 3)])\n",
      "a\n",
      "b\n",
      "c\n"
     ]
    }
   ],
   "source": [
    "# 5.6. Make an OrderedDict called fancy from the same pairs listed in 5.5 \n",
    "# and print it. Did it print in the same order as plain?\n",
    "\n",
    "from collections import OrderedDict\n",
    "test = OrderedDict([\n",
    "                    ('a', 1), ('b', 2), ('c', 3)\n",
    "                    ])\n",
    "\n",
    "print(type(test))\n",
    "print(test)\n",
    "\n",
    "# ==> not like 5.5"
   ]
  },
  {
   "cell_type": "code",
   "execution_count": null,
   "metadata": {
    "id": "8D1WG5n6SzZ0"
   },
   "outputs": [],
   "source": []
  }
 ],
 "metadata": {
  "colab": {
   "collapsed_sections": [],
   "name": "khdl_bt_c5",
   "provenance": []
  },
  "kernelspec": {
   "display_name": "Python 3",
   "language": "python",
   "name": "python3"
  },
  "language_info": {
   "codemirror_mode": {
    "name": "ipython",
    "version": 3
   },
   "file_extension": ".py",
   "mimetype": "text/x-python",
   "name": "python",
   "nbconvert_exporter": "python",
   "pygments_lexer": "ipython3",
   "version": "3.8.8"
  }
 },
 "nbformat": 4,
 "nbformat_minor": 1
}
