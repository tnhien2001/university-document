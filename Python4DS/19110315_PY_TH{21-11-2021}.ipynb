{
 "cells": [
  {
   "cell_type": "markdown",
   "metadata": {
    "id": "-gtpiEsnU6Rh"
   },
   "source": [
    "#BÀI TẬP  (21-11-2021)\n",
    "-----------------------------------\n",
    "### Họ tên: Trịnh Ngọc Hiến\n",
    "### MSSV: 19110315\n",
    "Viết bằng google colab"
   ]
  },
  {
   "cell_type": "markdown",
   "metadata": {
    "id": "EQPqQ8sDVFYR"
   },
   "source": [
    "## Bài tập 1:\n",
    "Viết function chuyển đổi int -> hex int.\n",
    "\n",
    "Viết function chuyển đổi int -> octal int.\n"
   ]
  },
  {
   "cell_type": "code",
   "execution_count": null,
   "metadata": {
    "colab": {
     "base_uri": "https://localhost:8080/"
    },
    "id": "4X-2lPsGUXZP",
    "outputId": "3dd6da7b-790b-4f09-85ef-f1f082091591"
   },
   "outputs": [
    {
     "name": "stdout",
     "output_type": "stream",
     "text": [
      "0x3c\n",
      "0o74\n"
     ]
    }
   ],
   "source": [
    "#hex int.\n",
    "a = hex(60)\n",
    "print(a)\n",
    "\n",
    "#octal int.\n",
    "b = oct(60)\n",
    "print(b)\n"
   ]
  },
  {
   "cell_type": "code",
   "execution_count": null,
   "metadata": {
    "id": "evkPh5WyWLcX"
   },
   "outputs": [],
   "source": [
    ""
   ]
  }
 ],
 "metadata": {
  "colab": {
   "collapsed_sections": [],
   "name": "BT_21-11",
   "provenance": []
  },
  "kernelspec": {
   "display_name": "Python 3",
   "name": "python3"
  },
  "language_info": {
   "name": "python"
  }
 },
 "nbformat": 4,
 "nbformat_minor": 0
}
