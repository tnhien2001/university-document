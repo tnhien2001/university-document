{
 "cells": [
  {
   "cell_type": "markdown",
   "metadata": {
    "id": "A-6pvW3zUheu"
   },
   "source": [
    "# BÀI TẬP CHƯƠNG 4\n",
    "----------------------\n",
    "### Họ tên: Trịnh Ngọc Hiến\n",
    "### MSSV: 19110315\n",
    "Viết bằng google colab"
   ]
  },
  {
   "cell_type": "code",
   "execution_count": null,
   "metadata": {
    "colab": {
     "base_uri": "https://localhost:8080/"
    },
    "id": "CW3Bvkk0ma6L",
    "outputId": "b3c08c0a-28a8-4004-d77d-d994a60d676c"
   },
   "outputs": [
    {
     "name": "stdout",
     "output_type": "stream",
     "text": [
      "just right\n",
      "start\n"
     ]
    }
   ],
   "source": [
    "## 4.1:\n",
    "#  Assign the value 7 to the variable guess_me. Then, write the conditional \n",
    "# tests (if,else, and elif) to print the string 'too low' if guess_me is \n",
    "# less than 7, 'too high' if greater than 7, and 'just right' if equal to 7.\n",
    "\n",
    "guess_me = 7\n",
    "\n",
    "if guess_me < 7:\n",
    "    print('too low')\n",
    "elif guess_me == 7:\n",
    "    print('just right')\n",
    "else:\n",
    "    print('too high')\n"
   ]
  },
  {
   "cell_type": "code",
   "execution_count": null,
   "metadata": {
    "colab": {
     "base_uri": "https://localhost:8080/"
    },
    "id": "cmmrKWt2mhKJ",
    "outputId": "6f934613-d89b-45f5-f9a6-081598e8c79e"
   },
   "outputs": [
    {
     "name": "stdout",
     "output_type": "stream",
     "text": [
      "too low\n",
      "too low\n",
      "too low\n",
      "too low\n",
      "too low\n",
      "too low\n",
      "found it\n"
     ]
    }
   ],
   "source": [
    "## 4.2:\n",
    "#  Assign the value 7 to the variable guess_me and the value 1 to the variable \n",
    "# start. Write a while loop that compares start with guess_me. \n",
    "# Print too low if start is less than guess me. \n",
    "# If start equals guess_me, print 'found it!' and exit the loop. \n",
    "#If start is greater than guess_me, print 'oops' and exit the loop. \n",
    "# Increment start at the end of the loop\n",
    "\n",
    "guess_me = 7\n",
    "start = 1\n",
    "\n",
    "while start <= guess_me:\n",
    "    if start < guess_me:\n",
    "        print('too low') \n",
    "\n",
    "    elif start == guess_me:\n",
    "        print('found it')\n",
    "        \n",
    "    else:\n",
    "        print('oops') \n",
    "    \n",
    "    start +=1\n"
   ]
  },
  {
   "cell_type": "code",
   "execution_count": null,
   "metadata": {
    "colab": {
     "base_uri": "https://localhost:8080/"
    },
    "id": "PgKZeZjzmmuh",
    "outputId": "be4a703f-33a4-4f91-bb45-f93de03dc61b"
   },
   "outputs": [
    {
     "name": "stdout",
     "output_type": "stream",
     "text": [
      "3\n",
      "2\n",
      "1\n",
      "0\n",
      "<class 'list'>\n"
     ]
    }
   ],
   "source": [
    "## 4.3\n",
    "#  Use a for loop to print the values of the list [3, 2, 1, 0].\n",
    "\n",
    "lst = [3, 2, 1, 0]\n",
    "\n",
    "for number in lst:\n",
    "  print(number)\n",
    "\n",
    "print(type(lst))  "
   ]
  },
  {
   "cell_type": "code",
   "execution_count": null,
   "metadata": {
    "colab": {
     "base_uri": "https://localhost:8080/"
    },
    "id": "6lSKSfJA-860",
    "outputId": "dc818a43-cf69-4de3-c647-068682d8ba64"
   },
   "outputs": [
    {
     "name": "stdout",
     "output_type": "stream",
     "text": [
      "[0, 1, 2, 3, 4, 5, 6, 7, 8, 9]\n",
      "<class 'list'>\n"
     ]
    }
   ],
   "source": [
    "## 4.4\n",
    "# Use a list comprehension to make a list of the even numbers in range(10).\n",
    "\n",
    "number_list = []\n",
    "\n",
    "for number in range(10):\n",
    "  number_list.append(number)\n",
    "\n",
    "print(number_list)\n",
    "print(type(number_list)) "
   ]
  },
  {
   "cell_type": "code",
   "execution_count": null,
   "metadata": {
    "colab": {
     "base_uri": "https://localhost:8080/"
    },
    "id": "CxVDuq5UBrZE",
    "outputId": "b1f877f1-9d92-45ad-c8be-6cc92d9f2a70"
   },
   "outputs": [
    {
     "name": "stdout",
     "output_type": "stream",
     "text": [
      "dict_keys(['mot', 'hai', 'ba', 'bon', 'nam', 'sau', 'bay', 'tam', 'chin', 'muoi'])\n",
      "dict_values([1, 2, 3, 4, 'nam', 'sau', 7, [8, 8.0, 8.1], 9, [10.0, 10]])\n",
      "<class 'dict'>\n"
     ]
    }
   ],
   "source": [
    "## 4.5\n",
    "# Use a dictionary comprehension to create the dictionary squares. \n",
    "# Use range(10) to return the keys, and use the square of each key as its value.\n",
    "\n",
    "# word = 'squares'\n",
    "# counts = {square: word.count(square) for square in set(word)}\n",
    "# counts\n",
    "\n",
    "# sth = {'so': [1, 2, 3, 4, 5],\n",
    "#        'hinh': ['hinh vuong', 'hinh tron', 'hinh tam giac'],\n",
    "#        'mon an': ['banh mi', 'banh bao', 'banh gio']\n",
    "#        }\n",
    "# sth['mon an']\n",
    "\n",
    "numbers = {'mot': 1, 'hai': 2, 'ba': 3, 'bon': 4, 'nam': 'nam',\n",
    "           'sau': 'sau', 'bay': 7, 'tam' : [8, 8.0, 8.1], \n",
    "           'chin': 9, 'muoi': [10.0,10]\n",
    "          }\n",
    "\n",
    "print(numbers.keys())\n",
    "print(numbers.values())\n",
    "print(type(numbers))"
   ]
  },
  {
   "cell_type": "code",
   "execution_count": null,
   "metadata": {
    "colab": {
     "base_uri": "https://localhost:8080/"
    },
    "id": "Z_yYhFmUw3JJ",
    "outputId": "b475bcc3-f562-451e-8a80-2161a181806b"
   },
   "outputs": [
    {
     "data": {
      "text/plain": [
       "[1, 3, 5, 7, 9]"
      ]
     },
     "execution_count": 10,
     "metadata": {},
     "output_type": "execute_result"
    }
   ],
   "source": [
    "## 4.6\n",
    "#Use a set comprehension to create the set odd from the odd numbers in range(10).\n",
    "\n",
    "number_list = []\n",
    "for number in range(1, 11):\n",
    "  if number % 2 != 0:\n",
    "    number_list.append(number)\n",
    "\n",
    "number_list"
   ]
  },
  {
   "cell_type": "code",
   "execution_count": null,
   "metadata": {
    "colab": {
     "base_uri": "https://localhost:8080/"
    },
    "id": "2HqKbrsS5ll8",
    "outputId": "d02bb111-0e1d-4a83-b8e8-ba82c396ec0e"
   },
   "outputs": [
    {
     "name": "stdout",
     "output_type": "stream",
     "text": [
      "<class 'generator'>\n",
      "G\n",
      "o\n",
      "t\n",
      " \n",
      "<class 'generator'>\n",
      "0\n",
      "1\n",
      "2\n",
      "3\n",
      "4\n",
      "5\n",
      "6\n",
      "7\n",
      "8\n",
      "9\n"
     ]
    }
   ],
   "source": [
    "#4.7 Use a generator comprehension to return the string 'Got ' \n",
    "# and a number for the numbers in range(10). \n",
    "# Iterate through this by using a for loop.\n",
    "\n",
    "string = 'Got '\n",
    "string_print = (word for word in string)\n",
    "print(type(string_print))\n",
    "for word in string_print:\n",
    "  print(word)\n",
    "\n",
    "number_thing = (number for number in range(10))\n",
    "print(type(number_thing))\n",
    "for number in number_thing:\n",
    "  print(number)"
   ]
  },
  {
   "cell_type": "code",
   "execution_count": null,
   "metadata": {
    "colab": {
     "base_uri": "https://localhost:8080/"
    },
    "id": "XQZ8e_aeAtOt",
    "outputId": "997221c5-22a5-46c9-ca18-f1af2bc462bb"
   },
   "outputs": [
    {
     "name": "stdout",
     "output_type": "stream",
     "text": [
      "['Harry', 'Ron', 'Hermione']\n"
     ]
    }
   ],
   "source": [
    "# 4.8 Define a function called good \n",
    "# that returns the list ['Harry', 'Ron', 'Hermione']\n",
    "\n",
    "list_name = []\n",
    "\n",
    "def add_name(name):\n",
    "  list_name.append(name)\n",
    "\n",
    "add_name('Harry')\n",
    "add_name('Ron')\n",
    "add_name('Hermione')\n",
    "print(list_name)"
   ]
  },
  {
   "cell_type": "code",
   "execution_count": null,
   "metadata": {
    "colab": {
     "base_uri": "https://localhost:8080/"
    },
    "id": "CA8_6AvBDEpv",
    "outputId": "b8b53db0-f52b-4c0a-90d8-2c6e23c483c5"
   },
   "outputs": [
    {
     "name": "stdout",
     "output_type": "stream",
     "text": [
      "[1, 3, 5, 7, 9]\n",
      "5\n"
     ]
    }
   ],
   "source": [
    "#4.9 Define a generator function called get_odds \n",
    "# that returns the odd numbers from range(10). \n",
    "#Use a for loop to find and print the third value returned.\n",
    "\n",
    "number_list = []\n",
    "def get_odds():\n",
    " for number in range(10):\n",
    "   if number % 2 != 0:\n",
    "     number_list.append(number)\n",
    "\n",
    "get_odds()\n",
    "print(number_list)\n",
    "for i in number_list:\n",
    "  print(number_list[2])\n",
    "  break\n",
    "  "
   ]
  },
  {
   "cell_type": "code",
   "execution_count": null,
   "metadata": {
    "colab": {
     "base_uri": "https://localhost:8080/",
     "height": 105
    },
    "id": "HJUEtYXiGDDT",
    "outputId": "284e1098-2d6c-46c4-a19a-e356889813be"
   },
   "outputs": [
    {
     "name": "stdout",
     "output_type": "stream",
     "text": [
      "Running function: decorator\n",
      "Test: ('start', 'finishes')\n",
      "start\n",
      "Result: finishes\n"
     ]
    },
    {
     "data": {
      "application/vnd.google.colaboratory.intrinsic+json": {
       "type": "string"
      },
      "text/plain": [
       "'finishes'"
      ]
     },
     "execution_count": 33,
     "metadata": {},
     "output_type": "execute_result"
    }
   ],
   "source": [
    "# 4.10 Define a decorator called test that prints 'start' \n",
    "# when a function is called and 'end' when it finishes.\n",
    "\n",
    "def document_it(func):\n",
    "  def new_function(*args, **kwargs):\n",
    "    print('Running function:', func.__name__)\n",
    "    print('Test:', args)\n",
    "    result = func(*args, **kwargs)\n",
    "    print('Result:', result)\n",
    "    return result\n",
    "\n",
    "  return new_function\n",
    "\n",
    "@document_it\n",
    "def decorator(a,b):\n",
    "  print(a)\n",
    "  return b\n",
    "\n",
    "decorator('start', 'finishes')"
   ]
  },
  {
   "cell_type": "code",
   "execution_count": null,
   "metadata": {
    "id": "MQv7qGO1HdXK"
   },
   "outputs": [],
   "source": [
    ""
   ]
  }
 ],
 "metadata": {
  "colab": {
   "collapsed_sections": [],
   "name": "khdl_bt_c4",
   "provenance": []
  },
  "kernelspec": {
   "display_name": "Python 3",
   "name": "python3"
  },
  "language_info": {
   "name": "python"
  }
 },
 "nbformat": 4,
 "nbformat_minor": 0
}
