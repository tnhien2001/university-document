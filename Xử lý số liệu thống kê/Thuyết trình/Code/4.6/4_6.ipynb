{
  "nbformat": 4,
  "nbformat_minor": 0,
  "metadata": {
    "colab": {
      "name": "4.6",
      "provenance": [],
      "toc_visible": true
    },
    "kernelspec": {
      "name": "python3",
      "display_name": "Python 3"
    },
    "language_info": {
      "name": "python"
    }
  },
  "cells": [
    {
      "cell_type": "code",
      "execution_count": null,
      "metadata": {
        "id": "L-kYwbHHmmAQ"
      },
      "outputs": [],
      "source": [
        "from __future__ import division, print_function, unicode_literals\n",
        "import numpy as np \n",
        "import matplotlib\n",
        "import matplotlib.pyplot as plt\n",
        "np.random.seed(2)"
      ]
    },
    {
      "cell_type": "code",
      "source": [
        "import pandas as pd\n",
        "import numpy as np\n",
        "from scipy import stats\n",
        "import matplotlib.pyplot as plt\n",
        "from scipy.stats import norm\n",
        "from scipy.stats import t\n",
        "import statistics as st\n",
        "import cv2\n",
        "import argparse\n",
        "import imutils"
      ],
      "metadata": {
        "id": "HAMRtOCZFab_"
      },
      "execution_count": null,
      "outputs": []
    },
    {
      "cell_type": "markdown",
      "source": [
        "4.6.1"
      ],
      "metadata": {
        "id": "UMtqwcN5yRWA"
      }
    },
    {
      "cell_type": "code",
      "source": [
        "import numpy as np\n",
        "Xmat = np. genfromtxt ('clusterdata.csv', delimiter =',')\n",
        "K = 3\n",
        "n, D = Xmat.shape\n",
        "c = np.array ([[ -2.0 , -4 ,0] ,[ -3 ,1 , -1]]) # initialize centers\n",
        "cold = np.zeros(c.shape)\n",
        "dist2 = np.zeros ((K,n))\n",
        "while np.abs(c - cold).sum() > 0.001:\n",
        "  cold = c.copy ()\n",
        "  for i in range(0,K): #compute the squared distances\n",
        "    dist2[i ,:] = np.sum(( Xmat - c[:,i].T)**2, 1)\n",
        "\n",
        "  label = np.argmin(dist2 ,0) #assign the points to nearest centroid\n",
        "  minvals = np.amin(dist2 ,0)\n",
        "  for i in range(0,K): # recompute the centroids\n",
        "    c[:,i] = np.mean(Xmat[np.where(label == i) ,:],1).reshape (1 ,2)\n",
        "\n",
        "print('Loss = {:3.3f}'.format(minvals.mean ()))"
      ],
      "metadata": {
        "id": "NaC1TnLStE8o",
        "colab": {
          "base_uri": "https://localhost:8080/"
        },
        "outputId": "37abde02-fd15-43b3-b40c-037001e69be2"
      },
      "execution_count": null,
      "outputs": [
        {
          "output_type": "stream",
          "name": "stdout",
          "text": [
            "Loss = 2.288\n"
          ]
        }
      ]
    },
    {
      "cell_type": "markdown",
      "source": [
        "4.6.2"
      ],
      "metadata": {
        "id": "HIzB6E5EyayW"
      }
    },
    {
      "cell_type": "code",
      "source": [
        "import numpy as np\n",
        "np. set_printoptions ( precision =4)\n",
        "\n",
        "Xmat = np. genfromtxt ('clusterdata.csv', delimiter =',')\n",
        "K = 3\n",
        "n, D = Xmat.shape\n",
        "\n",
        "def Scluster(c):\n",
        "  n, D = Xmat.shape\n",
        "  dist2 = np.zeros ((K,n))\n",
        "  cc = c.reshape(D,K)\n",
        "  for i in range(0,K):\n",
        "    dist2[i ,:] = np.sum(( Xmat - cc[:,i].T)**2, 1)\n",
        "  minvals = np.amin(dist2 ,0)\n",
        "  return minvals.mean ()\n",
        "\n",
        "numvar = K*D\n",
        "mu = np.zeros(numvar) # initialize centers\n",
        "sigma = np.ones(numvar)*2\n",
        "rho = 0.1\n",
        "N = 500; Nel = int(N*rho); eps = 0.001\n",
        "\n",
        "func = Scluster\n",
        "best_trj = np.array(numvar)\n",
        "best_perf = np.Inf\n",
        "trj = np.zeros(shape =(N,numvar))\n",
        "\n",
        "while(np.max(sigma)>eps):\n",
        "  for i in range(0, numvar):\n",
        "    trj[:,i] = (np.random.randn(N ,1)*sigma[i]+ mu[i]).reshape(N,)\n",
        "  S = np.zeros(N)\n",
        "  for i in range(0,N):\n",
        "    S[i] = func(trj[i])\n",
        "\n",
        "  sortedids = np.argsort(S) # from smallest to largest\n",
        "  S_sorted = S[ sortedids ]\n",
        "  best_trj = np.array(n)\n",
        "  best_perf = np.Inf\n",
        "  eliteids = sortedids [range(0,Nel)]\n",
        "  eliteTrj = trj[eliteids ,:]\n",
        "  mu = np.mean(eliteTrj ,axis =0)\n",
        "  sigma = np.std(eliteTrj ,axis =0)\n",
        "\n",
        "  if(best_perf >S_sorted [0]):\n",
        "    best_perf = S_sorted [0]\n",
        "    best_trj = trj[ sortedids [0]]\n",
        "\n",
        "print( best_perf )\n",
        "print(best_trj.reshape (2 ,3))\n"
      ],
      "metadata": {
        "colab": {
          "base_uri": "https://localhost:8080/"
        },
        "id": "k9bUA6z-84TT",
        "outputId": "9cb9389b-a6a0-47d8-a7e3-db76359557fb"
      },
      "execution_count": null,
      "outputs": [
        {
          "output_type": "stream",
          "name": "stdout",
          "text": [
            "2.2871307773713108\n",
            "[[ 0.5878 -1.9286 -3.8683]\n",
            " [-1.3526 -3.0414  0.0461]]\n"
          ]
        }
      ]
    },
    {
      "cell_type": "code",
      "source": [
        ""
      ],
      "metadata": {
        "id": "fjOj_iz5K1Oj"
      },
      "execution_count": null,
      "outputs": []
    }
  ]
}